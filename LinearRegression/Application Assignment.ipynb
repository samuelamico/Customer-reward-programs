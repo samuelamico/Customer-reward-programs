{
 "cells": [
  {
   "cell_type": "code",
   "execution_count": 15,
   "metadata": {},
   "outputs": [
    {
     "data": {
      "text/html": [
       "<div>\n",
       "<style scoped>\n",
       "    .dataframe tbody tr th:only-of-type {\n",
       "        vertical-align: middle;\n",
       "    }\n",
       "\n",
       "    .dataframe tbody tr th {\n",
       "        vertical-align: top;\n",
       "    }\n",
       "\n",
       "    .dataframe thead th {\n",
       "        text-align: right;\n",
       "    }\n",
       "</style>\n",
       "<table border=\"1\" class=\"dataframe\">\n",
       "  <thead>\n",
       "    <tr style=\"text-align: right;\">\n",
       "      <th></th>\n",
       "      <th>Retailer</th>\n",
       "      <th>Salerank</th>\n",
       "      <th>X2013USSales</th>\n",
       "      <th>X2013WorldSales</th>\n",
       "      <th>ProfitMargin</th>\n",
       "      <th>NumStores</th>\n",
       "      <th>Industry</th>\n",
       "      <th>Reward</th>\n",
       "      <th>ProgramName</th>\n",
       "      <th>RewardType</th>\n",
       "      <th>RewardStructure</th>\n",
       "      <th>RewardSize</th>\n",
       "      <th>ExpirationMonth</th>\n",
       "      <th>IndustryType</th>\n",
       "    </tr>\n",
       "  </thead>\n",
       "  <tbody>\n",
       "    <tr>\n",
       "      <td>0</td>\n",
       "      <td>A&amp;P</td>\n",
       "      <td>74</td>\n",
       "      <td>5.831</td>\n",
       "      <td>5.831</td>\n",
       "      <td>48.85</td>\n",
       "      <td>0.277</td>\n",
       "      <td>Discount, Variety Stores</td>\n",
       "      <td>0</td>\n",
       "      <td>No rewards program</td>\n",
       "      <td>-</td>\n",
       "      <td>-</td>\n",
       "      <td>-</td>\n",
       "      <td>-</td>\n",
       "      <td>Discount</td>\n",
       "    </tr>\n",
       "    <tr>\n",
       "      <td>1</td>\n",
       "      <td>Albertsons</td>\n",
       "      <td>21</td>\n",
       "      <td>19.452</td>\n",
       "      <td>19.452</td>\n",
       "      <td>69.02</td>\n",
       "      <td>1.024</td>\n",
       "      <td>Grocery Stores</td>\n",
       "      <td>0</td>\n",
       "      <td>No rewards program</td>\n",
       "      <td>-</td>\n",
       "      <td>-</td>\n",
       "      <td>-</td>\n",
       "      <td>-</td>\n",
       "      <td>Grocery</td>\n",
       "    </tr>\n",
       "    <tr>\n",
       "      <td>2</td>\n",
       "      <td>Aldi</td>\n",
       "      <td>38</td>\n",
       "      <td>10.898</td>\n",
       "      <td>10.650</td>\n",
       "      <td>69.41</td>\n",
       "      <td>1.328</td>\n",
       "      <td>Grocery Stores</td>\n",
       "      <td>0</td>\n",
       "      <td>No rewards program</td>\n",
       "      <td>-</td>\n",
       "      <td>-</td>\n",
       "      <td>-</td>\n",
       "      <td>-</td>\n",
       "      <td>Grocery</td>\n",
       "    </tr>\n",
       "    <tr>\n",
       "      <td>3</td>\n",
       "      <td>Alimentation Couche Tard (Circle K)</td>\n",
       "      <td>82</td>\n",
       "      <td>4.755</td>\n",
       "      <td>8.551</td>\n",
       "      <td>68.03</td>\n",
       "      <td>3.826</td>\n",
       "      <td>Grocery Stores</td>\n",
       "      <td>0</td>\n",
       "      <td>No rewards program</td>\n",
       "      <td>-</td>\n",
       "      <td>-</td>\n",
       "      <td>-</td>\n",
       "      <td>-</td>\n",
       "      <td>Grocery</td>\n",
       "    </tr>\n",
       "    <tr>\n",
       "      <td>4</td>\n",
       "      <td>Apple Stores</td>\n",
       "      <td>15</td>\n",
       "      <td>26.648</td>\n",
       "      <td>30.736</td>\n",
       "      <td>11.07</td>\n",
       "      <td>0.254</td>\n",
       "      <td>ElectronicEquipment</td>\n",
       "      <td>0</td>\n",
       "      <td>No rewards program</td>\n",
       "      <td>-</td>\n",
       "      <td>-</td>\n",
       "      <td>-</td>\n",
       "      <td>-</td>\n",
       "      <td>Specialty</td>\n",
       "    </tr>\n",
       "    <tr>\n",
       "      <td>5</td>\n",
       "      <td>Army Air Force Exchange</td>\n",
       "      <td>48</td>\n",
       "      <td>8.640</td>\n",
       "      <td>16.301</td>\n",
       "      <td>60.41</td>\n",
       "      <td>0.530</td>\n",
       "      <td>Specialty Retail, Other</td>\n",
       "      <td>0</td>\n",
       "      <td>No rewards program</td>\n",
       "      <td>-</td>\n",
       "      <td>-</td>\n",
       "      <td>-</td>\n",
       "      <td>-</td>\n",
       "      <td>Specialty</td>\n",
       "    </tr>\n",
       "    <tr>\n",
       "      <td>6</td>\n",
       "      <td>AT&amp;T Wireless</td>\n",
       "      <td>51</td>\n",
       "      <td>8.347</td>\n",
       "      <td>8.096</td>\n",
       "      <td>46.95</td>\n",
       "      <td>2.179</td>\n",
       "      <td>Telecom Services - Domestic</td>\n",
       "      <td>0</td>\n",
       "      <td>No rewards program</td>\n",
       "      <td>-</td>\n",
       "      <td>-</td>\n",
       "      <td>-</td>\n",
       "      <td>-</td>\n",
       "      <td>Specialty</td>\n",
       "    </tr>\n",
       "    <tr>\n",
       "      <td>7</td>\n",
       "      <td>Barnes &amp; Noble</td>\n",
       "      <td>71</td>\n",
       "      <td>6.082</td>\n",
       "      <td>6.082</td>\n",
       "      <td>72.79</td>\n",
       "      <td>1.366</td>\n",
       "      <td>Specialty Retail, Other</td>\n",
       "      <td>0</td>\n",
       "      <td>No rewards program</td>\n",
       "      <td>-</td>\n",
       "      <td>-</td>\n",
       "      <td>-</td>\n",
       "      <td>-</td>\n",
       "      <td>Specialty</td>\n",
       "    </tr>\n",
       "    <tr>\n",
       "      <td>8</td>\n",
       "      <td>Bed Bath &amp; Beyond</td>\n",
       "      <td>36</td>\n",
       "      <td>11.319</td>\n",
       "      <td>10.967</td>\n",
       "      <td>10.07</td>\n",
       "      <td>1.453</td>\n",
       "      <td>Home Furnishing Stores</td>\n",
       "      <td>0</td>\n",
       "      <td>No rewards program</td>\n",
       "      <td>-</td>\n",
       "      <td>Spend $200 earn 1,000 points = $10 reward cert...</td>\n",
       "      <td>-</td>\n",
       "      <td>-</td>\n",
       "      <td>Specialty</td>\n",
       "    </tr>\n",
       "    <tr>\n",
       "      <td>9</td>\n",
       "      <td>Big Lots</td>\n",
       "      <td>78</td>\n",
       "      <td>5.107</td>\n",
       "      <td>5.284</td>\n",
       "      <td>12.09</td>\n",
       "      <td>1.493</td>\n",
       "      <td>Discount, Variety Stores</td>\n",
       "      <td>0</td>\n",
       "      <td>No rewards program</td>\n",
       "      <td>-</td>\n",
       "      <td>-</td>\n",
       "      <td>-</td>\n",
       "      <td>-</td>\n",
       "      <td>Discount</td>\n",
       "    </tr>\n",
       "  </tbody>\n",
       "</table>\n",
       "</div>"
      ],
      "text/plain": [
       "                              Retailer  Salerank  X2013USSales  \\\n",
       "0                                  A&P        74         5.831   \n",
       "1                           Albertsons        21        19.452   \n",
       "2                                 Aldi        38        10.898   \n",
       "3  Alimentation Couche Tard (Circle K)        82         4.755   \n",
       "4                         Apple Stores        15        26.648   \n",
       "5              Army Air Force Exchange        48         8.640   \n",
       "6                        AT&T Wireless        51         8.347   \n",
       "7                       Barnes & Noble        71         6.082   \n",
       "8                    Bed Bath & Beyond        36        11.319   \n",
       "9                             Big Lots        78         5.107   \n",
       "\n",
       "   X2013WorldSales  ProfitMargin  NumStores                     Industry  \\\n",
       "0            5.831         48.85      0.277     Discount, Variety Stores   \n",
       "1           19.452         69.02      1.024               Grocery Stores   \n",
       "2           10.650         69.41      1.328               Grocery Stores   \n",
       "3            8.551         68.03      3.826               Grocery Stores   \n",
       "4           30.736         11.07      0.254          ElectronicEquipment   \n",
       "5           16.301         60.41      0.530      Specialty Retail, Other   \n",
       "6            8.096         46.95      2.179  Telecom Services - Domestic   \n",
       "7            6.082         72.79      1.366      Specialty Retail, Other   \n",
       "8           10.967         10.07      1.453       Home Furnishing Stores   \n",
       "9            5.284         12.09      1.493     Discount, Variety Stores   \n",
       "\n",
       "   Reward         ProgramName RewardType  \\\n",
       "0       0  No rewards program          -   \n",
       "1       0  No rewards program          -   \n",
       "2       0  No rewards program          -   \n",
       "3       0  No rewards program          -   \n",
       "4       0  No rewards program          -   \n",
       "5       0  No rewards program          -   \n",
       "6       0  No rewards program          -   \n",
       "7       0  No rewards program          -   \n",
       "8       0  No rewards program          -   \n",
       "9       0  No rewards program          -   \n",
       "\n",
       "                                     RewardStructure RewardSize  \\\n",
       "0                                                  -          -   \n",
       "1                                                  -          -   \n",
       "2                                                  -          -   \n",
       "3                                                  -          -   \n",
       "4                                                  -          -   \n",
       "5                                                  -          -   \n",
       "6                                                  -          -   \n",
       "7                                                  -          -   \n",
       "8  Spend $200 earn 1,000 points = $10 reward cert...          -   \n",
       "9                                                  -          -   \n",
       "\n",
       "  ExpirationMonth IndustryType  \n",
       "0               -     Discount  \n",
       "1               -      Grocery  \n",
       "2               -      Grocery  \n",
       "3               -      Grocery  \n",
       "4               -    Specialty  \n",
       "5               -    Specialty  \n",
       "6               -    Specialty  \n",
       "7               -    Specialty  \n",
       "8               -    Specialty  \n",
       "9               -     Discount  "
      ]
     },
     "execution_count": 15,
     "metadata": {},
     "output_type": "execute_result"
    }
   ],
   "source": [
    "import pandas as pd\n",
    "import numpy as np\n",
    "import numpy as np\n",
    "import matplotlib.pyplot as plt  # To visualize\n",
    "import pandas as pd  # To read data\n",
    "from sklearn.linear_model import LinearRegression\n",
    "\n",
    "df_crp = pd.read_excel('crp_cleandata.xlsx')\n",
    "df_crp.head(10)"
   ]
  },
  {
   "cell_type": "markdown",
   "metadata": {},
   "source": [
    "### Question 1:\n",
    "* Delete row Reward if == 0\n",
    "* Delete NumStores if == 0\n",
    "* Delete ExpirationMonth if == 999\n",
    "* What is the sum of the ExpirationMonth column?"
   ]
  },
  {
   "cell_type": "code",
   "execution_count": 7,
   "metadata": {},
   "outputs": [
    {
     "data": {
      "text/html": [
       "<div>\n",
       "<style scoped>\n",
       "    .dataframe tbody tr th:only-of-type {\n",
       "        vertical-align: middle;\n",
       "    }\n",
       "\n",
       "    .dataframe tbody tr th {\n",
       "        vertical-align: top;\n",
       "    }\n",
       "\n",
       "    .dataframe thead th {\n",
       "        text-align: right;\n",
       "    }\n",
       "</style>\n",
       "<table border=\"1\" class=\"dataframe\">\n",
       "  <thead>\n",
       "    <tr style=\"text-align: right;\">\n",
       "      <th></th>\n",
       "      <th>Retailer</th>\n",
       "      <th>Salerank</th>\n",
       "      <th>X2013USSales</th>\n",
       "      <th>X2013WorldSales</th>\n",
       "      <th>ProfitMargin</th>\n",
       "      <th>NumStores</th>\n",
       "      <th>Industry</th>\n",
       "      <th>Reward</th>\n",
       "      <th>ProgramName</th>\n",
       "      <th>RewardType</th>\n",
       "      <th>RewardStructure</th>\n",
       "      <th>RewardSize</th>\n",
       "      <th>ExpirationMonth</th>\n",
       "      <th>IndustryType</th>\n",
       "    </tr>\n",
       "  </thead>\n",
       "  <tbody>\n",
       "    <tr>\n",
       "      <td>45</td>\n",
       "      <td>7-Eleven</td>\n",
       "      <td>35</td>\n",
       "      <td>11.625</td>\n",
       "      <td>11.504</td>\n",
       "      <td>50.31</td>\n",
       "      <td>7.974</td>\n",
       "      <td>Discount, Variety Stores</td>\n",
       "      <td>1</td>\n",
       "      <td>7REWARDS</td>\n",
       "      <td>store credit</td>\n",
       "      <td>Buy 6 drinks  =  free drink</td>\n",
       "      <td>16.67</td>\n",
       "      <td>12</td>\n",
       "      <td>Discount</td>\n",
       "    </tr>\n",
       "    <tr>\n",
       "      <td>47</td>\n",
       "      <td>Advance Auto Parts</td>\n",
       "      <td>66</td>\n",
       "      <td>6.443</td>\n",
       "      <td>6.485</td>\n",
       "      <td>64.24</td>\n",
       "      <td>4.023</td>\n",
       "      <td>Auto Parts Stores</td>\n",
       "      <td>1</td>\n",
       "      <td>SpeedPerks</td>\n",
       "      <td>store credit</td>\n",
       "      <td>Spend $30/$100 = $5/$20 rewards for the next $...</td>\n",
       "      <td>16.6</td>\n",
       "      <td>2</td>\n",
       "      <td>Specialty</td>\n",
       "    </tr>\n",
       "    <tr>\n",
       "      <td>48</td>\n",
       "      <td>Ahold USA / Royal</td>\n",
       "      <td>17</td>\n",
       "      <td>26.118</td>\n",
       "      <td>44.028</td>\n",
       "      <td>40.87</td>\n",
       "      <td>0.767</td>\n",
       "      <td>Grocery Stores</td>\n",
       "      <td>1</td>\n",
       "      <td>Stop and Shop Rewards</td>\n",
       "      <td>gas discount</td>\n",
       "      <td>Spend $100 and earn 0.10 off per gallon for th...</td>\n",
       "      <td>15</td>\n",
       "      <td>1</td>\n",
       "      <td>Grocery</td>\n",
       "    </tr>\n",
       "    <tr>\n",
       "      <td>50</td>\n",
       "      <td>Ascena Retail Group (Ann Taylor)</td>\n",
       "      <td>84</td>\n",
       "      <td>4.665</td>\n",
       "      <td>4.715</td>\n",
       "      <td>93.45</td>\n",
       "      <td>3.854</td>\n",
       "      <td>Apparel Stores</td>\n",
       "      <td>1</td>\n",
       "      <td>PerfectRewards</td>\n",
       "      <td>store credit</td>\n",
       "      <td>Spend $400 earn 2,000 points = $20 PERFECT REW...</td>\n",
       "      <td>5</td>\n",
       "      <td>1</td>\n",
       "      <td>Specialty</td>\n",
       "    </tr>\n",
       "    <tr>\n",
       "      <td>51</td>\n",
       "      <td>AutoZone</td>\n",
       "      <td>56</td>\n",
       "      <td>7.584</td>\n",
       "      <td>15.190</td>\n",
       "      <td>96.64</td>\n",
       "      <td>4.802</td>\n",
       "      <td>Auto Parts Stores</td>\n",
       "      <td>1</td>\n",
       "      <td>AutoZone Rewards</td>\n",
       "      <td>store credit</td>\n",
       "      <td>Spend $20+ 5 times earn 5 credits = $20 mercha...</td>\n",
       "      <td>20</td>\n",
       "      <td>3</td>\n",
       "      <td>Specialty</td>\n",
       "    </tr>\n",
       "  </tbody>\n",
       "</table>\n",
       "</div>"
      ],
      "text/plain": [
       "                            Retailer  Salerank  X2013USSales  X2013WorldSales  \\\n",
       "45                          7-Eleven        35        11.625           11.504   \n",
       "47                Advance Auto Parts        66         6.443            6.485   \n",
       "48                 Ahold USA / Royal        17        26.118           44.028   \n",
       "50  Ascena Retail Group (Ann Taylor)        84         4.665            4.715   \n",
       "51                          AutoZone        56         7.584           15.190   \n",
       "\n",
       "    ProfitMargin  NumStores                  Industry  Reward  \\\n",
       "45         50.31      7.974  Discount, Variety Stores       1   \n",
       "47         64.24      4.023         Auto Parts Stores       1   \n",
       "48         40.87      0.767            Grocery Stores       1   \n",
       "50         93.45      3.854            Apparel Stores       1   \n",
       "51         96.64      4.802         Auto Parts Stores       1   \n",
       "\n",
       "              ProgramName    RewardType  \\\n",
       "45               7REWARDS  store credit   \n",
       "47             SpeedPerks  store credit   \n",
       "48  Stop and Shop Rewards  gas discount   \n",
       "50         PerfectRewards  store credit   \n",
       "51       AutoZone Rewards  store credit   \n",
       "\n",
       "                                      RewardStructure RewardSize  \\\n",
       "45                        Buy 6 drinks  =  free drink      16.67   \n",
       "47  Spend $30/$100 = $5/$20 rewards for the next $...       16.6   \n",
       "48  Spend $100 and earn 0.10 off per gallon for th...         15   \n",
       "50  Spend $400 earn 2,000 points = $20 PERFECT REW...          5   \n",
       "51  Spend $20+ 5 times earn 5 credits = $20 mercha...         20   \n",
       "\n",
       "   ExpirationMonth IndustryType  \n",
       "45              12     Discount  \n",
       "47               2    Specialty  \n",
       "48               1      Grocery  \n",
       "50               1    Specialty  \n",
       "51               3    Specialty  "
      ]
     },
     "execution_count": 7,
     "metadata": {},
     "output_type": "execute_result"
    }
   ],
   "source": [
    "df_clean_questao1 = df_crp[df_crp.Reward != 0]\n",
    "df_clean_questao1 = df_clean_questao1[df_clean_questao1.NumStores != 0]\n",
    "df_clean_questao1 = df_clean_questao1[df_clean_questao1.ExpirationMonth != 999]\n",
    "df_clean_questao1.head()"
   ]
  },
  {
   "cell_type": "code",
   "execution_count": 13,
   "metadata": {},
   "outputs": [
    {
     "name": "stdout",
     "output_type": "stream",
     "text": [
      " Number of rows = 46, Number of columns = 14\n"
     ]
    }
   ],
   "source": [
    "print( (\" Number of rows = {}, Number of columns = {}\").format(*df_clean_questao1.shape) )"
   ]
  },
  {
   "cell_type": "code",
   "execution_count": 14,
   "metadata": {},
   "outputs": [
    {
     "name": "stdout",
     "output_type": "stream",
     "text": [
      "Sum of ExpirationMonth = 336.0\n"
     ]
    }
   ],
   "source": [
    "print( (\"Sum of ExpirationMonth = {}\").format(df_clean_questao1.ExpirationMonth.sum()) )"
   ]
  },
  {
   "cell_type": "markdown",
   "metadata": {},
   "source": [
    "---------------------------------------------------------------------------------------------------------------------------"
   ]
  },
  {
   "cell_type": "markdown",
   "metadata": {},
   "source": [
    "### Question 2\n",
    "#### Do a Linear regression models with ExpirationMonth column as the target variable, and Finde the highest R-squared FOR:\n",
    "\n",
    "Predictor Variables\n",
    "* Salerank, \n",
    "* X2013USSales, \n",
    "* X2013WorldSales, \n",
    "* NumStores,\n",
    "* RewardSize, \n",
    "* ProfitMargin"
   ]
  },
  {
   "cell_type": "code",
   "execution_count": 56,
   "metadata": {},
   "outputs": [],
   "source": [
    "def LinearReg(predict):\n",
    "    X = df_clean_questao1.loc[:, 'ExpirationMonth'].values.reshape(-1, 1)  # values converts it into a numpy array\n",
    "    Y = df_clean_questao1.loc[:, predict].values.reshape(-1, 1)  # -1 means that calculate the dimension of rows, but have 1 column\n",
    "    linear_regressor = LinearRegression()  # create object for the class\n",
    "    linear_regressor.fit(X, Y)  # perform linear regression\n",
    "    Y_pred = linear_regressor.predict(X)  # make predictions\n",
    "                              \n",
    "    # sum of square of residuals\n",
    "    ssr = np.sum((Y_pred - Y)**2)\n",
    "\n",
    "    #  total sum of squares\n",
    "    sst = np.sum((Y - np.mean(Y))**2)\n",
    "\n",
    "    # R2 score\n",
    "    r2_score = 1 - (ssr/sst)\n",
    "    r2_score\n",
    "                              \n",
    "    return(X,Y_pred,Y,r2_score)"
   ]
  },
  {
   "cell_type": "code",
   "execution_count": 57,
   "metadata": {},
   "outputs": [
    {
     "name": "stdout",
     "output_type": "stream",
     "text": [
      "R2 Score =  0.0621542674612523\n"
     ]
    },
    {
     "data": {
      "image/png": "[encoded data removed]",
      "text/plain": [
       "<Figure size 432x288 with 1 Axes>"
      ]
     },
     "metadata": {
      "needs_background": "light"
     },
     "output_type": "display_data"
    }
   ],
   "source": [
    "# a) Salerank\n",
    "\n",
    "X,Y_pred,Y,r2_score = LinearReg('Salerank')\n",
    "print(\"R2 Score = \",r2_score)\n",
    "plt.scatter(X, Y)\n",
    "plt.plot(X, Y_pred, color='red')\n",
    "plt.show()"
   ]
  },
  {
   "cell_type": "code",
   "execution_count": 58,
   "metadata": {},
   "outputs": [
    {
     "name": "stdout",
     "output_type": "stream",
     "text": [
      "R2 Score =  0.008430686558979272\n"
     ]
    },
    {
     "data": {
      "image/png": "[encoded data removed]",
      "text/plain": [
       "<Figure size 432x288 with 1 Axes>"
      ]
     },
     "metadata": {
      "needs_background": "light"
     },
     "output_type": "display_data"
    }
   ],
   "source": [
    "# b) X2013USSales\n",
    "\n",
    "X,Y_pred,Y,r2_score = LinearReg('X2013USSales')\n",
    "print(\"R2 Score = \",r2_score)\n",
    "plt.scatter(X, Y)\n",
    "plt.plot(X, Y_pred, color='red')\n",
    "plt.show()"
   ]
  },
  {
   "cell_type": "code",
   "execution_count": 59,
   "metadata": {},
   "outputs": [
    {
     "name": "stdout",
     "output_type": "stream",
     "text": [
      "R2 Score =  0.005105133339090129\n"
     ]
    },
    {
     "data": {
      "image/png": "[encoded data removed]",
      "text/plain": [
       "<Figure size 432x288 with 1 Axes>"
      ]
     },
     "metadata": {
      "needs_background": "light"
     },
     "output_type": "display_data"
    }
   ],
   "source": [
    "# c) X2013WorldSales\n",
    "\n",
    "X,Y_pred,Y,r2_score = LinearReg('X2013WorldSales')\n",
    "print(\"R2 Score = \",r2_score)\n",
    "plt.scatter(X, Y)\n",
    "plt.plot(X, Y_pred, color='red')\n",
    "plt.show()"
   ]
  },
  {
   "cell_type": "code",
   "execution_count": 60,
   "metadata": {},
   "outputs": [
    {
     "name": "stdout",
     "output_type": "stream",
     "text": [
      "R2 Score =  0.25371471874343043\n"
     ]
    },
    {
     "data": {
      "image/png": "[encoded data removed]",
      "text/plain": [
       "<Figure size 432x288 with 1 Axes>"
      ]
     },
     "metadata": {
      "needs_background": "light"
     },
     "output_type": "display_data"
    }
   ],
   "source": [
    "# d) NumStores\n",
    "\n",
    "X,Y_pred,Y,r2_score = LinearReg('NumStores')\n",
    "print(\"R2 Score = \",r2_score)\n",
    "plt.scatter(X, Y)\n",
    "plt.plot(X, Y_pred, color='red')\n",
    "plt.show()"
   ]
  },
  {
   "cell_type": "code",
   "execution_count": 61,
   "metadata": {},
   "outputs": [
    {
     "name": "stdout",
     "output_type": "stream",
     "text": [
      "R2 Score =  0.02040225610581281\n"
     ]
    },
    {
     "data": {
      "image/png": "[encoded data removed]",
      "text/plain": [
       "<Figure size 432x288 with 1 Axes>"
      ]
     },
     "metadata": {
      "needs_background": "light"
     },
     "output_type": "display_data"
    }
   ],
   "source": [
    "# e) RewardSize\n",
    "\n",
    "X,Y_pred,Y,r2_score = LinearReg('RewardSize')\n",
    "print(\"R2 Score = \",r2_score)\n",
    "plt.scatter(X, Y)\n",
    "plt.plot(X, Y_pred, color='red')\n",
    "plt.show()"
   ]
  },
  {
   "cell_type": "code",
   "execution_count": 62,
   "metadata": {},
   "outputs": [
    {
     "name": "stdout",
     "output_type": "stream",
     "text": [
      "R2 Score =  0.02040225610581281\n"
     ]
    },
    {
     "data": {
      "image/png": "[encoded data removed]",
      "text/plain": [
       "<Figure size 432x288 with 1 Axes>"
      ]
     },
     "metadata": {
      "needs_background": "light"
     },
     "output_type": "display_data"
    }
   ],
   "source": [
    "# f) ProfitMargin\n",
    "\n",
    "X,Y_pred,Y,r2_score = LinearReg('RewardSize')\n",
    "print(\"R2 Score = \",r2_score)\n",
    "plt.scatter(X, Y)\n",
    "plt.plot(X, Y_pred, color='red')\n",
    "plt.show()"
   ]
  },
  {
   "cell_type": "markdown",
   "metadata": {},
   "source": [
    "--------------------------------------------------------------------------------------------------------------"
   ]
  },
  {
   "cell_type": "markdown",
   "metadata": {},
   "source": [
    "### Question 3, 4\n",
    "#### estimated intercept,estimated slope:"
   ]
  },
  {
   "cell_type": "code",
   "execution_count": 33,
   "metadata": {},
   "outputs": [],
   "source": [
    "def LinearRegCoef(predict):\n",
    "    X = df_clean_questao1.loc[:, 'ExpirationMonth'].values.reshape(-1, 1)  # values converts it into a numpy array\n",
    "    Y = df_clean_questao1.loc[:, predict].values.reshape(-1, 1)  # -1 means that calculate the dimension of rows, but have 1 column\n",
    "    linear_regressor = LinearRegression()  # create object for the class\n",
    "    linear_regressor.fit(X, Y)  # perform linear regression\n",
    "    Y_pred = linear_regressor.predict(X)  # make predictions\n",
    "\n",
    "    print('Slope:' ,linear_regressor.coef_)\n",
    "    print('Intercept:', linear_regressor.intercept_)"
   ]
  },
  {
   "cell_type": "code",
   "execution_count": 34,
   "metadata": {},
   "outputs": [
    {
     "name": "stdout",
     "output_type": "stream",
     "text": [
      "Slope: [[0.28512195]]\n",
      "Intercept: [0.69973966]\n"
     ]
    }
   ],
   "source": [
    "LinearRegCoef('NumStores')"
   ]
  },
  {
   "cell_type": "markdown",
   "metadata": {},
   "source": [
    "### Question 5,6,7,8,9\n",
    "#### Log transformation:\n",
    "\n",
    "* Model 1: neither variable is transformed; this gives you the same model as in the previous question.\n",
    "* Model 2: only the target variable is transformed\n",
    "* Model 3: only the explanatory variable is transformed\n",
    "* Model 4: both variables are transformed.\n",
    "\n",
    "Report the R-squared values of all four models."
   ]
  },
  {
   "cell_type": "code",
   "execution_count": 93,
   "metadata": {},
   "outputs": [],
   "source": [
    "def Transform_LinearReg(target,predict):\n",
    "    X = df_clean_questao1.loc[:, target].values.reshape(-1, 1)  # values converts it into a numpy array\n",
    "    Y = df_clean_questao1.loc[:, predict].values.reshape(-1, 1)  # -1 means that calculate the dimension of rows, but have 1 column\n",
    "\n",
    "    linear_regressor = LinearRegression()  # create object for the class\n",
    "    linear_regressor.fit(X, Y)  # perform linear regression\n",
    "    Y_pred = linear_regressor.predict(X)  # make predictions\n",
    "                              \n",
    "    # sum of square of residuals\n",
    "    ssr = np.sum((Y_pred - Y)**2)\n",
    "\n",
    "    #  total sum of squares\n",
    "    sst = np.sum((Y - np.mean(Y))**2)\n",
    "\n",
    "    # R2 score\n",
    "    r2_score = 1 - (ssr/sst)\n",
    "    r2_score\n",
    "                              \n",
    "    return(X,Y_pred,Y,r2_score)"
   ]
  },
  {
   "cell_type": "code",
   "execution_count": 103,
   "metadata": {},
   "outputs": [
    {
     "name": "stdout",
     "output_type": "stream",
     "text": [
      "R2 Score =  0.25371471874343043\n"
     ]
    },
    {
     "data": {
      "image/png": "[encoded data removed]",
      "text/plain": [
       "<Figure size 432x288 with 1 Axes>"
      ]
     },
     "metadata": {
      "needs_background": "light"
     },
     "output_type": "display_data"
    }
   ],
   "source": [
    "## 5) Model 1\n",
    "\n",
    "X,Y_pred,Y,r2_score = Transform_LinearReg('ExpirationMonth','NumStores')\n",
    "print(\"R2 Score = \",r2_score)\n",
    "plt.scatter(X, Y)\n",
    "plt.plot(X, Y_pred, color='red')\n",
    "plt.show()"
   ]
  },
  {
   "cell_type": "code",
   "execution_count": 104,
   "metadata": {},
   "outputs": [
    {
     "name": "stdout",
     "output_type": "stream",
     "text": [
      "R2 Score =  0.07041983612024383\n"
     ]
    },
    {
     "data": {
      "image/png": "[encoded data removed]",
      "text/plain": [
       "<Figure size 432x288 with 1 Axes>"
      ]
     },
     "metadata": {
      "needs_background": "light"
     },
     "output_type": "display_data"
    }
   ],
   "source": [
    "## 6) Model 2\n",
    "def transform(name,dtaframe):\n",
    "    list_transformation = []\n",
    "    dtaframe\n",
    "    for n in dtaframe:\n",
    "        list_transformation.append(np.log(n))\n",
    "\n",
    "    df_temp = pd.DataFrame(list_transformation)\n",
    "    df_temp.columns = [name]\n",
    "    return(df_temp)\n",
    "\n",
    "target = transform('ExpirationMonth',df_clean_questao1['ExpirationMonth'])\n",
    "\n",
    "X = target.values.reshape(-1, 1)  # values converts it into a numpy array\n",
    "Y = df_clean_questao1.loc[:, 'NumStores'].values.reshape(-1, 1)  # -1 means that calculate the dimension of rows, but have 1 column\n",
    "\n",
    "linear_regressor = LinearRegression()  # create object for the class\n",
    "linear_regressor.fit(X, Y)  # perform linear regression\n",
    "Y_pred = linear_regressor.predict(X)  # make predictions\n",
    "\n",
    "# sum of square of residuals\n",
    "ssr = np.sum((Y_pred - Y)**2)\n",
    "\n",
    "#  total sum of squares\n",
    "sst = np.sum((Y - np.mean(Y))**2)\n",
    "\n",
    "# R2 score\n",
    "r2_score = 1 - (ssr/sst)\n",
    "r2_score\n",
    "\n",
    "\n",
    "print(\"R2 Score = \",r2_score)\n",
    "\n",
    "plt.scatter(X, Y)\n",
    "plt.plot(X, Y_pred, color='red')\n",
    "plt.show()\n"
   ]
  },
  {
   "cell_type": "code",
   "execution_count": 105,
   "metadata": {},
   "outputs": [
    {
     "name": "stdout",
     "output_type": "stream",
     "text": [
      "R2 Score =  0.144696826130986\n"
     ]
    },
    {
     "data": {
      "image/png": "[encoded data removed]",
      "text/plain": [
       "<Figure size 432x288 with 1 Axes>"
      ]
     },
     "metadata": {
      "needs_background": "light"
     },
     "output_type": "display_data"
    }
   ],
   "source": [
    "## 7) Model3 \n",
    "\n",
    "target = transform('NumStores',df_clean_questao1['NumStores'])\n",
    "\n",
    "X = df_clean_questao1.loc[:, 'ExpirationMonth'].values.reshape(-1, 1)  # values converts it into a numpy array\n",
    "Y = target.values.reshape(-1, 1)  # -1 means that calculate the dimension of rows, but have 1 column\n",
    "\n",
    "linear_regressor = LinearRegression()  # create object for the class\n",
    "linear_regressor.fit(X, Y)  # perform linear regression\n",
    "Y_pred = linear_regressor.predict(X)  # make predictions\n",
    "\n",
    "# sum of square of residuals\n",
    "ssr = np.sum((Y_pred - Y)**2)\n",
    "\n",
    "#  total sum of squares\n",
    "sst = np.sum((Y - np.mean(Y))**2)\n",
    "\n",
    "# R2 score\n",
    "r2_score = 1 - (ssr/sst)\n",
    "r2_score\n",
    "\n",
    "\n",
    "print(\"R2 Score = \",r2_score)\n",
    "\n",
    "plt.scatter(X, Y)\n",
    "plt.plot(X, Y_pred, color='red')\n",
    "plt.show()"
   ]
  },
  {
   "cell_type": "code",
   "execution_count": 106,
   "metadata": {},
   "outputs": [
    {
     "name": "stdout",
     "output_type": "stream",
     "text": [
      "R2 Score =  0.06526684762496393\n"
     ]
    },
    {
     "data": {
      "image/png": "[encoded data removed]",
      "text/plain": [
       "<Figure size 432x288 with 1 Axes>"
      ]
     },
     "metadata": {
      "needs_background": "light"
     },
     "output_type": "display_data"
    }
   ],
   "source": [
    "## 7) Model4 \n",
    "\n",
    "target = transform('NumStores',df_clean_questao1['NumStores'])\n",
    "predict = transform('ExpirationMonth',df_clean_questao1['ExpirationMonth'])\n",
    "\n",
    "\n",
    "X = target.values.reshape(-1, 1)  # values converts it into a numpy array\n",
    "Y = predict.values.reshape(-1, 1)  # -1 means that calculate the dimension of rows, but have 1 column\n",
    "\n",
    "linear_regressor = LinearRegression()  # create object for the class\n",
    "linear_regressor.fit(X, Y)  # perform linear regression\n",
    "Y_pred = linear_regressor.predict(X)  # make predictions\n",
    "\n",
    "# sum of square of residuals\n",
    "ssr = np.sum((Y_pred - Y)**2)\n",
    "\n",
    "#  total sum of squares\n",
    "sst = np.sum((Y - np.mean(Y))**2)\n",
    "\n",
    "# R2 score\n",
    "r2_score = 1 - (ssr/sst)\n",
    "r2_score\n",
    "\n",
    "\n",
    "print(\"R2 Score = \",r2_score)\n",
    "\n",
    "plt.scatter(X, Y)\n",
    "plt.plot(X, Y_pred, color='red')\n",
    "plt.show()"
   ]
  },
  {
   "cell_type": "markdown",
   "metadata": {},
   "source": [
    "### Question 10\n",
    "#### Do a MultiLinear regression models with ExpirationMonth column as the target variable, and Finde the highest R-squared FOR:\n",
    "\n",
    "Predictor Variables\n",
    "* Salerank, \n",
    "* X2013USSales, \n",
    "* RewardSize, \n",
    "* ProfitMargin"
   ]
  },
  {
   "cell_type": "code",
   "execution_count": 127,
   "metadata": {},
   "outputs": [],
   "source": [
    "def MultiLR(target):\n",
    "    X = df_clean_questao1.loc[:, ['ExpirationMonth',target]].values\n",
    "    Y = df_clean_questao1.loc[:, 'NumStores'].values\n",
    "    \n",
    "    regressor = LinearRegression()\n",
    "    regressor.fit(X,Y)\n",
    "\n",
    "    Y_pred= regressor.predict(X)\n",
    "    \n",
    "    ####\n",
    "    # sum of square of residuals\n",
    "    ssr = np.sum((Y_pred - Y)**2)\n",
    "\n",
    "    #  total sum of squares\n",
    "    sst = np.sum((Y - np.mean(Y))**2)\n",
    "\n",
    "    # R2 score\n",
    "    r2_score = 1 - (ssr/sst)\n",
    "    r2_score\n",
    "    \n",
    "    return(X,Y_pred,r2_score,regressor)"
   ]
  },
  {
   "cell_type": "code",
   "execution_count": 129,
   "metadata": {},
   "outputs": [
    {
     "name": "stdout",
     "output_type": "stream",
     "text": [
      " Salerank R2 Score =  0.2687855774055481\n"
     ]
    }
   ],
   "source": [
    "## a)Salerank\n",
    "\n",
    "X,Y_pred,r2_score,regressor = MultiLR('Salerank')\n",
    "print(\" Salerank R2 Score = \",r2_score)\n"
   ]
  },
  {
   "cell_type": "code",
   "execution_count": 130,
   "metadata": {},
   "outputs": [
    {
     "name": "stdout",
     "output_type": "stream",
     "text": [
      " X2013USSales R2 Score =  0.29717822630695445\n"
     ]
    }
   ],
   "source": [
    "## b)X2013USSales\n",
    "\n",
    "X,Y_pred,r2_score,regressor = MultiLR('X2013USSales')\n",
    "print(\" X2013USSales R2 Score = \",r2_score)\n"
   ]
  },
  {
   "cell_type": "code",
   "execution_count": 132,
   "metadata": {},
   "outputs": [
    {
     "name": "stdout",
     "output_type": "stream",
     "text": [
      " RewardSize R2 Score =  0.27232809483227016\n"
     ]
    }
   ],
   "source": [
    "## b)RewardSize\n",
    "\n",
    "X,Y_pred,r2_score,regressor = MultiLR('RewardSize')\n",
    "print(\" RewardSize R2 Score = \",r2_score)"
   ]
  },
  {
   "cell_type": "code",
   "execution_count": 133,
   "metadata": {},
   "outputs": [
    {
     "name": "stdout",
     "output_type": "stream",
     "text": [
      " ProfitMargin R2 Score =  0.25376806813398456\n"
     ]
    }
   ],
   "source": [
    "## b)ProfitMargin\n",
    "\n",
    "X,Y_pred,r2_score,regressor = MultiLR('ProfitMargin')\n",
    "print(\" ProfitMargin R2 Score = \",r2_score)"
   ]
  },
  {
   "cell_type": "code",
   "execution_count": null,
   "metadata": {},
   "outputs": [],
   "source": []
  }
 ],
 "metadata": {
  "kernelspec": {
   "display_name": "Python 3",
   "language": "python",
   "name": "python3"
  },
  "language_info": {
   "codemirror_mode": {
    "name": "ipython",
    "version": 3
   },
   "file_extension": ".py",
   "mimetype": "text/x-python",
   "name": "python",
   "nbconvert_exporter": "python",
   "pygments_lexer": "ipython3",
   "version": "3.7.4"
  }
 },
 "nbformat": 4,
 "nbformat_minor": 2
}
